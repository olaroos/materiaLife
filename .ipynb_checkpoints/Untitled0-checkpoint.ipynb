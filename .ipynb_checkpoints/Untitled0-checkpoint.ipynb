{
 "metadata": {
  "name": ""
 },
 "nbformat": 3,
 "nbformat_minor": 0,
 "worksheets": [
  {
   "cells": [
    {
     "cell_type": "code",
     "collapsed": false,
     "input": [],
     "language": "python",
     "metadata": {},
     "outputs": [],
     "prompt_number": 33
    },
    {
     "cell_type": "code",
     "collapsed": false,
     "input": [
      "# -*- coding: ISO-8859-1-*-\n",
      "\n",
      "import json\n",
      "import os\n",
      "import cgi\n",
      "import codecs\n",
      "\n",
      "def getLastEntry(Category, dataBase):\n",
      "    return len(dataBase[Category])\n",
      "\n",
      "def addEntry(Category, data, dataBase):\n",
      "    try:\n",
      "        dataBase[Category][str(getLastEntry(Category,dataBase))] = data\n",
      "    except KeyError:\\n\",\n",
      "        print 'Key not found in dataBase'\n",
      "\n",
      "openFile = codecs.open('data/out', 'r', 'utf-8')\n",
      "fileData = openFile.read()\n",
      "openFile.close()\n",
      "j = json.loads(fileData)\n",
      "\n",
      "goingIn = {\n",
      "           \n",
      "           }\n",
      "\n",
      "addEntry(\"Kitchenware\", \n",
      "\n",
      "\n",
      "\n",
      "\n",
      "o = json.dumps(j, ensure_ascii=True)\n",
      "openFile = codecs.open('data/out', 'wb', 'utf-8')\n",
      "openFile.write(o)\n",
      "openFile.close()"
     ],
     "language": "python",
     "metadata": {},
     "outputs": [],
     "prompt_number": 34
    }
   ],
   "metadata": {}
  }
 ]
}