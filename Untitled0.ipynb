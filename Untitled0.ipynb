{
 "metadata": {
  "name": ""
 },
 "nbformat": 3,
 "nbformat_minor": 0,
 "worksheets": [
  {
   "cells": [
    {
     "cell_type": "code",
     "collapsed": false,
     "input": [],
     "language": "python",
     "metadata": {},
     "outputs": [],
     "prompt_number": 33
    },
    {
     "cell_type": "code",
     "collapsed": false,
     "input": [
      "# -*- coding: ISO-8859-1-*-\n",
      "\n",
      "import json\n",
      "import os\n",
      "import cgi\n",
      "import codecs\n",
      "\n",
      "def getLastEntry(Category, dataBase):\n",
      "    return len(dataBase[Category])\n",
      "\n",
      "def addEntry(Category, data, dataBase):\n",
      "    try:\n",
      "        dataBase[Category][str(getLastEntry(Category,dataBase))] = data\n",
      "        print 'Added data to category: ' + Category\n",
      "    except KeyError:\n",
      "        print 'Key not found in dataBase'\n",
      "\n",
      "def buildNoCat():\n",
      "    noCat = [];\n",
      "    for category in j:\n",
      "        for item in j[category]:\n",
      "            noCat.append(j[category][item])\n",
      "            \n",
      "    o = json.dumps(noCat, ensure_ascii=True)\n",
      "    openFile = codecs.open('data/dataNoCat', 'wb', 'utf-8')\n",
      "    openFile.write(o)\n",
      "    openFile.close()\n",
      "        \n",
      "def appendCategory():\n",
      "    for category in j:\n",
      "        for item in j[category]:\n",
      "            j[category][item][\"Category\"] = str(category)\n",
      "\n",
      "        \n",
      "openFile = codecs.open('data/out', 'r', 'utf-8')\n",
      "fileData = openFile.read()\n",
      "j = json.loads(fileData)\n",
      "openFile.close()\n",
      "\n",
      "\n",
      "goingIn = {\n",
      "        \"Category\": \"Excess\", \n",
      "        \"Description\": \"Casall - tr\u00e4ningsband, t\u00e4njbart gummiband med handtag, r\u00f6d\", \n",
      "        \"PlaceInHome\": \"Middle Locker - Box[Lindberg Pastagryta]\",\n",
      "        \"Relation\": \"Tr\u00e4ning\", \n",
      "        \"Title\": \"Tr\u00e4ningsband\"\n",
      "        } \n",
      "# goingIn = {\n",
      "#             \"Author\": \"James Stewart\", \n",
      "#             \"Category\": \"Books\", \n",
      "#             \"Description\": \"L\u00e5nad av Mattias Kruger borttappad, ink\u00f6pt som ers\u00e4ttning och kvar i min \u00e4go efter original \u00e5terfunnits\", \n",
      "#             \"Edition\": \"\", \n",
      "#             \"PlaceInHome\": \"Left Locker - Shelf 2\", \n",
      "#             \"Relation\": \"School\", \n",
      "#             \"Subtype\": \"\", \n",
      "#             \"Title\": \"Calculus - Early Transcendentals\", \n",
      "#             \"Type\": \"Book\"\n",
      "#         }\n",
      "\n",
      "\n",
      "\n",
      "addEntry(goingIn[\"Category\"], goingIn, j)\n",
      "buildNoCat()\n",
      "\n",
      "o = json.dumps(j, ensure_ascii=True)\n",
      "openFile = codecs.open('data/out', 'wb', 'utf-8')\n",
      "openFile.write(o)\n",
      "openFile.close()"
     ],
     "language": "python",
     "metadata": {},
     "outputs": [
      {
       "output_type": "stream",
       "stream": "stdout",
       "text": [
        "Added data to category: Excess\n"
       ]
      }
     ],
     "prompt_number": 18
    }
   ],
   "metadata": {}
  }
 ]
}