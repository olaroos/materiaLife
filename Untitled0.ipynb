{
 "metadata": {
  "name": ""
 },
 "nbformat": 3,
 "nbformat_minor": 0,
 "worksheets": [
  {
   "cells": [
    {
     "cell_type": "code",
     "collapsed": false,
     "input": [],
     "language": "python",
     "metadata": {},
     "outputs": [],
     "prompt_number": 33
    },
    {
     "cell_type": "code",
     "collapsed": false,
     "input": [
      "# -*- coding: ISO-8859-1-*-\n",
      "\n",
      "import json\n",
      "import os\n",
      "import cgi\n",
      "import codecs\n",
      "\n",
      "def getLastEntry(Category, dataBase):\n",
      "    return len(dataBase[Category])\n",
      "\n",
      "def addEntry(Category, data, dataBase):\n",
      "    try:\n",
      "        dataBase[Category][str(getLastEntry(Category,dataBase))] = data\n",
      "        print 'Added data to category: ' + Category\n",
      "    except KeyError:\n",
      "        print 'Key not found in dataBase'\n",
      "\n",
      "def buildNoCat():\n",
      "    noCat = [];\n",
      "    for category in j:\n",
      "        for item in j[category]:\n",
      "            noCat.append(j[category][item])\n",
      "            \n",
      "    o = json.dumps(noCat, ensure_ascii=True)\n",
      "    openFile = codecs.open('data/dataNoCat', 'wb', 'utf-8')\n",
      "    openFile.write(o)\n",
      "    openFile.close()\n",
      "        \n",
      "def appendCategory():\n",
      "    for category in j:\n",
      "        for item in j[category]:\n",
      "            j[category][item][\"Category\"] = str(category)\n",
      "\n",
      "        \n",
      "openFile = codecs.open('data/out', 'r', 'utf-8')\n",
      "fileData = openFile.read()\n",
      "j = json.loads(fileData)\n",
      "openFile.close()\n",
      "        \n",
      "\n",
      "# goingIn = {\n",
      "#             \"Category\": \"Excess\", \n",
      "#             \"Description\": \"olander, simglas\u00f6gon, orange glas, i plastficka\", \n",
      "#             \"PlaceInHome\": \"Middle Locker - Box[Lindberg Pastagryta]\", \n",
      "#             \"Relation\": \"Excess\", \n",
      "#             \"Title\": \"Simglas\u00f6gon\"\n",
      "#         } \n",
      "# goingIn = {\n",
      "#             \"Author\": \"James Stewart\", \n",
      "#             \"Category\": \"Books\", \n",
      "#             \"Description\": \"L\u00e5nad av Mattias Kruger borttappad, ink\u00f6pt som ers\u00e4ttning och kvar i min \u00e4go efter original \u00e5terfunnits\", \n",
      "#             \"Edition\": \"\", \n",
      "#             \"PlaceInHome\": \"Left Locker - Shelf 2\", \n",
      "#             \"Relation\": \"School\", \n",
      "#             \"Subtype\": \"\", \n",
      "#             \"Title\": \"Calculus - Early Transcendentals\", \n",
      "#             \"Type\": \"Book\"\n",
      "#         }\n",
      "\n",
      "\n",
      "\n",
      "# addEntry(\"Excess\", goingIn, j)\n",
      "buildNoCat()\n",
      "\n",
      "o = json.dumps(j, ensure_ascii=True)\n",
      "openFile = codecs.open('data/out', 'wb', 'utf-8')\n",
      "openFile.write(o)\n",
      "openFile.close()"
     ],
     "language": "python",
     "metadata": {},
     "outputs": [
      {
       "ename": "AttributeError",
       "evalue": "'dict' object has no attribute 'append'",
       "output_type": "pyerr",
       "traceback": [
        "\u001b[0;31m---------------------------------------------------------------------------\u001b[0m\n\u001b[0;31mAttributeError\u001b[0m                            Traceback (most recent call last)",
        "\u001b[0;32m<ipython-input-23-cf2beb292144>\u001b[0m in \u001b[0;36m<module>\u001b[0;34m()\u001b[0m\n\u001b[1;32m     61\u001b[0m \u001b[0;34m\u001b[0m\u001b[0m\n\u001b[1;32m     62\u001b[0m \u001b[0;31m# addEntry(\"Excess\", goingIn, j)\u001b[0m\u001b[0;34m\u001b[0m\u001b[0;34m\u001b[0m\u001b[0m\n\u001b[0;32m---> 63\u001b[0;31m \u001b[0mbuildNoCat\u001b[0m\u001b[0;34m(\u001b[0m\u001b[0;34m)\u001b[0m\u001b[0;34m\u001b[0m\u001b[0m\n\u001b[0m\u001b[1;32m     64\u001b[0m \u001b[0;34m\u001b[0m\u001b[0m\n\u001b[1;32m     65\u001b[0m \u001b[0mo\u001b[0m \u001b[0;34m=\u001b[0m \u001b[0mjson\u001b[0m\u001b[0;34m.\u001b[0m\u001b[0mdumps\u001b[0m\u001b[0;34m(\u001b[0m\u001b[0mj\u001b[0m\u001b[0;34m,\u001b[0m \u001b[0mensure_ascii\u001b[0m\u001b[0;34m=\u001b[0m\u001b[0mTrue\u001b[0m\u001b[0;34m)\u001b[0m\u001b[0;34m\u001b[0m\u001b[0m\n",
        "\u001b[0;32m<ipython-input-23-cf2beb292144>\u001b[0m in \u001b[0;36mbuildNoCat\u001b[0;34m()\u001b[0m\n\u001b[1;32m     20\u001b[0m     \u001b[0;32mfor\u001b[0m \u001b[0mcategory\u001b[0m \u001b[0;32min\u001b[0m \u001b[0mj\u001b[0m\u001b[0;34m:\u001b[0m\u001b[0;34m\u001b[0m\u001b[0m\n\u001b[1;32m     21\u001b[0m         \u001b[0;32mfor\u001b[0m \u001b[0mitem\u001b[0m \u001b[0;32min\u001b[0m \u001b[0mj\u001b[0m\u001b[0;34m[\u001b[0m\u001b[0mcategory\u001b[0m\u001b[0;34m]\u001b[0m\u001b[0;34m:\u001b[0m\u001b[0;34m\u001b[0m\u001b[0m\n\u001b[0;32m---> 22\u001b[0;31m             \u001b[0mnoCat\u001b[0m\u001b[0;34m.\u001b[0m\u001b[0mappend\u001b[0m\u001b[0;34m(\u001b[0m\u001b[0mj\u001b[0m\u001b[0;34m[\u001b[0m\u001b[0mcategory\u001b[0m\u001b[0;34m]\u001b[0m\u001b[0;34m[\u001b[0m\u001b[0mitem\u001b[0m\u001b[0;34m]\u001b[0m\u001b[0;34m)\u001b[0m\u001b[0;34m\u001b[0m\u001b[0m\n\u001b[0m\u001b[1;32m     23\u001b[0m \u001b[0;34m\u001b[0m\u001b[0m\n\u001b[1;32m     24\u001b[0m     \u001b[0mo\u001b[0m \u001b[0;34m=\u001b[0m \u001b[0mjson\u001b[0m\u001b[0;34m.\u001b[0m\u001b[0mdumps\u001b[0m\u001b[0;34m(\u001b[0m\u001b[0mnoCat\u001b[0m\u001b[0;34m,\u001b[0m \u001b[0mensure_ascii\u001b[0m\u001b[0;34m=\u001b[0m\u001b[0mTrue\u001b[0m\u001b[0;34m)\u001b[0m\u001b[0;34m\u001b[0m\u001b[0m\n",
        "\u001b[0;31mAttributeError\u001b[0m: 'dict' object has no attribute 'append'"
       ]
      }
     ],
     "prompt_number": 23
    }
   ],
   "metadata": {}
  }
 ]
}